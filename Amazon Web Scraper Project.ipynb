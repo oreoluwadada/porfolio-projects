{
 "cells": [
  {
   "cell_type": "code",
   "execution_count": 23,
   "id": "7f40bb4f",
   "metadata": {},
   "outputs": [],
   "source": [
    "# Import Libraries\n",
    "\n",
    "from bs4 import BeautifulSoup\n",
    "import requests\n",
    "import smtplib\n",
    "import time\n",
    "import datetime\n",
    "import pandas"
   ]
  },
  {
   "cell_type": "code",
   "execution_count": 16,
   "id": "fd71571b",
   "metadata": {},
   "outputs": [
    {
     "name": "stdout",
     "output_type": "stream",
     "text": [
      "\n",
      "                    Funny Got Data MIS Data Systems Business Analyst T-Shirt\n",
      "                   \n",
      "\n",
      "                    17.49\n",
      "                   \n"
     ]
    }
   ],
   "source": [
    "# Connect to website\n",
    "\n",
    "URL = 'https://www.amazon.co.uk/Got-Data-MIS-Business-Analyst/dp/B09F319PK2/ref=sr_1_1?crid=154YDQ3MFZ8M6&dib=eyJ2IjoiMSJ9.f9IdArLnxlQ2CBPOmOVCFIIlCGN6Q_8A_9Bt0JGgn57cI-u5ZNmBpYz7aX5JBYabh_Rgs4EAF_w7LHOuxsu8Wpv_DH0CJSTrAGfOoAhjWuWbNGszvRU9Sn-w3KYW-4tRgY7C2j7eAva0KOhsOSSyS9_-HLutYEEBnlghvvPAU3SZGM7-VlGc6MC6YFDpm8HSZS-H1Vl0hfgKAOp-VEfjsf-HE5m01McAf1UtGp9uJeo.rAcL1mXCGYntLWBhSdrUEpZCKixmrYro3z-PcL3SsP4&dib_tag=se&keywords=funny+got+data&qid=1709144334&sprefix=got+data%2Caps%2C319&sr=8-1'\n",
    "\n",
    "headers = {\"User-Agent\": \"Mozilla/5.0 (Macintosh; Intel Mac OS X 10_15_7) AppleWebKit/605.1.15 (KHTML, like Gecko) Version/17.2.1 Safari/605.1.15\"}\n",
    "\n",
    "page = requests.get(URL, headers=headers)\n",
    "\n",
    "soup1 = BeautifulSoup(page.content, \"html.parser\")\n",
    "\n",
    "soup2 = BeautifulSoup(soup1.prettify(),'html.parser')\n",
    "\n",
    "title = soup2.find(id='productTitle').get_text()\n",
    "\n",
    "price = soup2.find('span',class_='aok-offscreen').get_text().replace(\"£\",\"\")\n",
    "\n",
    "print(title)\n",
    "print(price)\n"
   ]
  },
  {
   "cell_type": "code",
   "execution_count": 21,
   "id": "f91400a8",
   "metadata": {},
   "outputs": [
    {
     "name": "stdout",
     "output_type": "stream",
     "text": [
      "Funny Got Data MIS Data Systems Business Analyst T-Shirt\n",
      "17.49\n"
     ]
    }
   ],
   "source": [
    "price = price.strip()\n",
    "title = title.strip()\n",
    "today = datetime.date.today()\n",
    "print(title)\n",
    "print(price)"
   ]
  },
  {
   "cell_type": "code",
   "execution_count": 22,
   "id": "5b5031d7",
   "metadata": {},
   "outputs": [],
   "source": [
    "import csv\n",
    "\n",
    "header = ['Title', 'Price', 'Date']\n",
    "data = [title, price, today]\n",
    "\n",
    "with open('AmazonScraperDataset.csv', 'w', newline='', encoding='UTF8')as f:\n",
    "    writer = csv.writer(f)\n",
    "    writer.writerow(header)\n",
    "    writer.writerow(data)"
   ]
  },
  {
   "cell_type": "code",
   "execution_count": 24,
   "id": "9cba2249",
   "metadata": {},
   "outputs": [],
   "source": [
    "# Appending data to the csv\n",
    "with open('AmazonScraperDataset.csv', 'a+', newline='', encoding='UTF8')as f:\n",
    "    writer = csv.writer(f)\n",
    "    writer.writerow(data)"
   ]
  },
  {
   "cell_type": "code",
   "execution_count": 25,
   "id": "5e12cd98",
   "metadata": {},
   "outputs": [],
   "source": [
    "# automated function \n",
    "def check_price(): \n",
    "    URL = 'https://www.amazon.co.uk/Got-Data-MIS-Business-Analyst/dp/B09F319PK2/ref=sr_1_1?crid=154YDQ3MFZ8M6&dib=eyJ2IjoiMSJ9.f9IdArLnxlQ2CBPOmOVCFIIlCGN6Q_8A_9Bt0JGgn57cI-u5ZNmBpYz7aX5JBYabh_Rgs4EAF_w7LHOuxsu8Wpv_DH0CJSTrAGfOoAhjWuWbNGszvRU9Sn-w3KYW-4tRgY7C2j7eAva0KOhsOSSyS9_-HLutYEEBnlghvvPAU3SZGM7-VlGc6MC6YFDpm8HSZS-H1Vl0hfgKAOp-VEfjsf-HE5m01McAf1UtGp9uJeo.rAcL1mXCGYntLWBhSdrUEpZCKixmrYro3z-PcL3SsP4&dib_tag=se&keywords=funny+got+data&qid=1709144334&sprefix=got+data%2Caps%2C319&sr=8-1'\n",
    "\n",
    "    headers = {\"User-Agent\": \"Mozilla/5.0 (Macintosh; Intel Mac OS X 10_15_7) AppleWebKit/605.1.15 (KHTML, like Gecko) Version/17.2.1 Safari/605.1.15\"}\n",
    "\n",
    "    page = requests.get(URL, headers=headers)\n",
    "\n",
    "    soup1 = BeautifulSoup(page.content, \"html.parser\")\n",
    "\n",
    "    soup2 = BeautifulSoup(soup1.prettify(),'html.parser')\n",
    "\n",
    "    title = soup2.find(id='productTitle').get_text()\n",
    "\n",
    "    price = soup2.find('span',class_='aok-offscreen').get_text().replace(\"£\",\"\")\n",
    "    \n",
    "    price = price.strip()\n",
    "    title = title.strip()\n",
    "    today = datetime.date.today()\n",
    "    with open('AmazonScraperDataset.csv', 'a+', newline='', encoding='UTF8')as f:\n",
    "        writer = csv.writer(f)\n",
    "        writer.writerow(data)"
   ]
  },
  {
   "cell_type": "code",
   "execution_count": null,
   "id": "15a6b699",
   "metadata": {},
   "outputs": [],
   "source": [
    "# Daily Check\n",
    "while (True):\n",
    "    check_price()\n",
    "    time.sleep(86400)\n",
    "    "
   ]
  }
 ],
 "metadata": {
  "kernelspec": {
   "display_name": "Python 3 (ipykernel)",
   "language": "python",
   "name": "python3"
  },
  "language_info": {
   "codemirror_mode": {
    "name": "ipython",
    "version": 3
   },
   "file_extension": ".py",
   "mimetype": "text/x-python",
   "name": "python",
   "nbconvert_exporter": "python",
   "pygments_lexer": "ipython3",
   "version": "3.11.5"
  }
 },
 "nbformat": 4,
 "nbformat_minor": 5
}
